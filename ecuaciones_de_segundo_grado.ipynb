{
 "cells": [
  {
   "cell_type": "code",
   "execution_count": 3,
   "metadata": {},
   "outputs": [
    {
     "name": "stdout",
     "output_type": "stream",
     "text": [
      "Ingrese coeficiente a:-1\n",
      "Ingrese coeficiente b:4\n",
      "Ingrese coeficiente c:-3\n",
      "La raíz real x1 es 1.000\n",
      "La raíz real x2 es 3.000\n"
     ]
    }
   ],
   "source": [
    "import math \n",
    "\n",
    "a = float(input(\"Ingrese coeficiente a:\"))\n",
    "b = float(input(\"Ingrese coeficiente b:\"))\n",
    "c = float(input(\"Ingrese coeficiente c:\"))\n",
    "\n",
    "if a==0:\n",
    "    print(\"El coeficiente a no puede ser igual a cero\")\n",
    "else:\n",
    "    discriminante = b**2 - 4 * a * c\n",
    "    if discriminante >= 0:\n",
    "        if discriminante == 0:\n",
    "            x = -b / (2 * a)\n",
    "            print(\"La raíz única es {:.3f}\".format(x))\n",
    "        else:\n",
    "            x1 = (-b + math.sqrt(discriminante)) / (2 * a)\n",
    "            x2 = (-b - math.sqrt(discriminante)) / (2 * a)\n",
    "            print(\"La raíz real x1 es {:.3f}\".format(x1))\n",
    "            print(\"La raíz real x2 es {:.3f}\".format(x2))\n",
    "    else:\n",
    "        discriminante = abs(discriminante)\n",
    "        parteReal = -b / (2 * a)\n",
    "        parteImaginaria = math.sqrt(discriminante) / (2 * a)\n",
    "        print(\"La raíz compleja x1 es {:.3f} + {:.3f}i\".format(parteReal, parteImaginaria))\n",
    "        print(\"La raíz compleja x2 es {:.3f} - {:.3f}i\".format(parteReal, parteImaginaria))"
   ]
  },
  {
   "cell_type": "code",
   "execution_count": null,
   "metadata": {},
   "outputs": [],
   "source": []
  }
 ],
 "metadata": {
  "kernelspec": {
   "display_name": "Python 3",
   "language": "python",
   "name": "python3"
  },
  "language_info": {
   "codemirror_mode": {
    "name": "ipython",
    "version": 3
   },
   "file_extension": ".py",
   "mimetype": "text/x-python",
   "name": "python",
   "nbconvert_exporter": "python",
   "pygments_lexer": "ipython3",
   "version": "3.8.5"
  }
 },
 "nbformat": 4,
 "nbformat_minor": 4
}
